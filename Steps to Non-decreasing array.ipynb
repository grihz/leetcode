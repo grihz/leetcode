{
 "cells": [
  {
   "cell_type": "markdown",
   "id": "325f1413",
   "metadata": {},
   "source": [
    "You are given a 0-indexed integer array nums. In one step, remove all elements `nums[i]` where `nums[i - 1] > nums[i]` for all `0 < i < nums.length`.\n",
    "\n",
    "Return the number of steps performed until nums becomes a non-decreasing array.\n",
    "\n",
    " \n",
    "**Example 1:**\n",
    ">Input: nums = [5,3,4,4,7,3,6,11,8,5,11]\n",
    ">Output: 3\n",
    ">Explanation: The following are the steps performed:\n",
    ">- Step 1: [5,3,4,4,7,3,6,11,8,5,11] becomes [5,4,4,7,6,11,11]\n",
    ">- Step 2: [5,4,4,7,6,11,11] becomes [5,4,7,11,11]\n",
    ">- Step 3: [5,4,7,11,11] becomes [5,7,11,11]\n",
    ">[5,7,11,11] is a non-decreasing array. Therefore, we return 3.\n",
    "\n",
    "**Example 2:**\n",
    ">Input: nums = [4,5,7,7,13]\n",
    ">Output: 0\n",
    ">Explanation: nums is already a non-decreasing array. Therefore, we return 0.\n",
    " \n",
    "\n",
    "**Constraints:**\n",
    "- 1 <= nums.length <= 105\n",
    "- 1 <= nums[i] <= 109"
   ]
  },
  {
   "cell_type": "code",
   "execution_count": 15,
   "id": "580e39d4",
   "metadata": {},
   "outputs": [],
   "source": [
    "from typing import List\n",
    "\n",
    "class Solution:\n",
    "     \n",
    "    @staticmethod\n",
    "    def isNonDecreaseing(nums: List[int]) -> bool:\n",
    "        result = True;\n",
    "        for i in range(1, len(nums)):\n",
    "            if nums[i] < nums[i-1]:\n",
    "                result = False;\n",
    "                break;\n",
    "        return result;\n",
    "        \n",
    "    \n",
    "    def totalSteps(self, nums: List[int]) -> int:\n",
    "        steps = 0;\n",
    "        while not(self.__class__.isNonDecreaseing(nums)):\n",
    "            steps+=1;\n",
    "            nextStepNums = [nums[0]];\n",
    "            for i in range(1, len(nums)):\n",
    "                if nums[i-1]>nums[i]:\n",
    "                    continue;\n",
    "                nextStepNums.append(nums[i]);\n",
    "            nums = nextStepNums;\n",
    "            #print('Step ', steps, ': ', nums);\n",
    "        return steps;"
   ]
  },
  {
   "cell_type": "code",
   "execution_count": 17,
   "id": "9f71e63c",
   "metadata": {},
   "outputs": [
    {
     "name": "stdout",
     "output_type": "stream",
     "text": [
      "0\n",
      "Step  1 :  [5, 4, 4, 7, 6, 11, 11]\n",
      "Step  2 :  [5, 4, 7, 11, 11]\n",
      "Step  3 :  [5, 7, 11, 11]\n",
      "3\n",
      "0\n"
     ]
    }
   ],
   "source": [
    "cls = Solution();\n",
    "print(cls.totalSteps([0]));\n",
    "print(cls.totalSteps([5,3,4,4,7,3,6,11,8,5,11]));\n",
    "print(cls.totalSteps([4,5,7,7,13]));"
   ]
  },
  {
   "cell_type": "code",
   "execution_count": null,
   "id": "2fe78927",
   "metadata": {},
   "outputs": [],
   "source": []
  }
 ],
 "metadata": {
  "kernelspec": {
   "display_name": "Python 3 (ipykernel)",
   "language": "python",
   "name": "python3"
  },
  "language_info": {
   "codemirror_mode": {
    "name": "ipython",
    "version": 3
   },
   "file_extension": ".py",
   "mimetype": "text/x-python",
   "name": "python",
   "nbconvert_exporter": "python",
   "pygments_lexer": "ipython3",
   "version": "3.9.13"
  }
 },
 "nbformat": 4,
 "nbformat_minor": 5
}

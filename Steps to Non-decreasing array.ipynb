{
 "cells": [
  {
   "cell_type": "markdown",
   "id": "b044bd68",
   "metadata": {},
   "source": [
    "You are given a 0-indexed integer array nums. In one step, remove all elements `nums[i]` where `nums[i - 1] > nums[i]` for all `0 < i < nums.length`.\n",
    "\n",
    "Return the number of steps performed until nums becomes a non-decreasing array.\n",
    "\n",
    " \n",
    "**Example 1:**\n",
    ">Input: nums = [5,3,4,4,7,3,6,11,8,5,11]\n",
    ">Output: 3\n",
    ">Explanation: The following are the steps performed:\n",
    ">- Step 1: [5,3,4,4,7,3,6,11,8,5,11] becomes [5,4,4,7,6,11,11]\n",
    ">- Step 2: [5,4,4,7,6,11,11] becomes [5,4,7,11,11]\n",
    ">- Step 3: [5,4,7,11,11] becomes [5,7,11,11]\n",
    ">[5,7,11,11] is a non-decreasing array. Therefore, we return 3.\n",
    "\n",
    "**Example 2:**\n",
    ">Input: nums = [4,5,7,7,13]\n",
    ">Output: 0\n",
    ">Explanation: nums is already a non-decreasing array. Therefore, we return 0.\n",
    " \n",
    "\n",
    "**Constraints:**\n",
    "- 1 <= nums.length <= 105\n",
    "- 1 <= nums[i] <= 109"
   ]
  },
  {
   "cell_type": "code",
   "execution_count": 92,
   "id": "939acc72",
   "metadata": {},
   "outputs": [],
   "source": [
    "from typing import List\n",
    "\n",
    "class Solution1:\n",
    "     \n",
    "    @staticmethod\n",
    "    def isNonDecreaseing(nums: List[int]) -> bool:\n",
    "        result = True;\n",
    "        for i in range(1, len(nums)):\n",
    "            if nums[i] < nums[i-1]:\n",
    "                result = False;\n",
    "                break;\n",
    "        return result;\n",
    "        \n",
    "    \n",
    "    def totalSteps(self, nums: List[int]) -> int:\n",
    "        steps = 0;\n",
    "        while not(self.__class__.isNonDecreaseing(nums)):\n",
    "            steps+=1;\n",
    "            nextStepNums = [nums[0]];\n",
    "            for i in range(1, len(nums)):\n",
    "                if nums[i-1]>nums[i]:\n",
    "                    continue;\n",
    "                nextStepNums.append(nums[i]);\n",
    "            nums = nextStepNums;\n",
    "            print('Step ', steps, ': ', nums);\n",
    "        return steps;\n",
    "\n",
    "\n",
    "    \n",
    "    \n",
    "\n",
    "class Solution2:\n",
    "    @staticmethod\n",
    "    def getStep(nums: List[int], localMax: int, i: int) -> ():\n",
    "        steps = 1;\n",
    "        start = i;\n",
    "        while ((i + 1) < len(nums)) and (nums[i+1] < nums[i]):\n",
    "            i += 1;\n",
    "        while ((i + steps) < len(nums)) and (nums[i+steps] >= nums[i+steps-1]) and (nums[i+steps] < localMax):\n",
    "                steps+=1; \n",
    "        return (start, i+steps-1, steps);        \n",
    "        \n",
    "    \n",
    "    def totalSteps(self, nums: List[int]) -> int:\n",
    "        maxSteps = 0;\n",
    "        i = 1;\n",
    "        while i < len(nums):\n",
    "            if nums[i-1] > nums[i]:\n",
    "                max = nums[i-1];\n",
    "                startI, endI, steps = self.__class__.getStep(nums, max, i);\n",
    "                print('nums[',startI, ']=', nums[startI], 'nums[', endI, ']=', nums[endI], steps);\n",
    "                k = endI+1;\n",
    "                while (k<len(nums)) and (nums[k] < max):\n",
    "                    localMax = nums[k-1];\n",
    "                    startK, endK, stepsK = self.__class__.getStep(nums, localMax, k);\n",
    "                    if stepsK <= steps:\n",
    "                        if ((endK+1) < len(nums)) and (nums[endK+1] < max):\n",
    "                            steps +=1;\n",
    "                    else:\n",
    "                        steps = stepsK;\n",
    "                    endI = endK;\n",
    "                    k = endI + 1;\n",
    "                    print('nums[',startI, ']=', nums[startI], 'nums[', endI, ']=', nums[endI], steps);\n",
    "                if steps > maxSteps:\n",
    "                    maxSteps = steps;\n",
    "                i = endI + 1;      \n",
    "            else:\n",
    "                i+=1;\n",
    "        return maxSteps;"
   ]
  },
  {
   "cell_type": "code",
   "execution_count": 95,
   "id": "f3e7cac2",
   "metadata": {},
   "outputs": [],
   "source": [
    "data=[70,140,40, 140,130,120,80,90,60,50,90,130, 40, 50, 60, 70, 80, 90, 180];\n",
    "data=[500,800,700,710,720,750,601,602,603,604,605, 620, 660, 650, 640, 620, 600];"
   ]
  },
  {
   "cell_type": "code",
   "execution_count": 96,
   "id": "17f9cd21",
   "metadata": {},
   "outputs": [
    {
     "name": "stdout",
     "output_type": "stream",
     "text": [
      "Step  1 :  [500, 800, 710, 720, 750, 602, 603, 604, 605, 620, 660]\n",
      "Step  2 :  [500, 800, 720, 750, 603, 604, 605, 620, 660]\n",
      "Step  3 :  [500, 800, 750, 604, 605, 620, 660]\n",
      "Step  4 :  [500, 800, 605, 620, 660]\n",
      "Step  5 :  [500, 800, 620, 660]\n",
      "Step  6 :  [500, 800, 660]\n",
      "Step  7 :  [500, 800]\n",
      "7\n",
      "nums[ 2 ]= 700 nums[ 5 ]= 750 4\n",
      "nums[ 2 ]= 700 nums[ 12 ]= 660 7\n",
      "nums[ 2 ]= 700 nums[ 16 ]= 600 8\n",
      "8\n"
     ]
    }
   ],
   "source": [
    "cls1 = Solution1();\n",
    "cls2 = Solution2();\n",
    "print(cls1.totalSteps(data));\n",
    "print(cls2.totalSteps(data));"
   ]
  },
  {
   "cell_type": "code",
   "execution_count": 89,
   "id": "4ecf576c",
   "metadata": {},
   "outputs": [
    {
     "name": "stdout",
     "output_type": "stream",
     "text": [
      "0\n",
      "3 4 3\n",
      "3 6 2\n",
      "8 5 1\n",
      "3\n",
      "0\n",
      "4 4 1\n",
      "13 13 3\n",
      "3\n",
      "700 750 4\n",
      "nums[ 2 ]= 700 nums[ 12 ]= 660 7\n",
      "nums[ 2 ]= 700 nums[ 16 ]= 600 8\n",
      "8\n"
     ]
    }
   ],
   "source": [
    "cls = Solution2();\n",
    "print(cls.totalSteps([0]));\n",
    "print(cls.totalSteps([5,3,4,4,7,3,6,11,8,5,11]));\n",
    "print(cls.totalSteps([4,5,7,7,13]));\n",
    "print(cls.totalSteps([7,14,4,14,13,12,2,6,13]));\n",
    "print(cls.totalSteps([500,800,700,710,720,750,601,602,603,604,605, 620, 660, 650, 640, 620, 600, 900]));\n",
    "    "
   ]
  },
  {
   "cell_type": "code",
   "execution_count": null,
   "id": "c4ac7ed1",
   "metadata": {},
   "outputs": [],
   "source": []
  }
 ],
 "metadata": {
  "kernelspec": {
   "display_name": "Python 3 (ipykernel)",
   "language": "python",
   "name": "python3"
  },
  "language_info": {
   "codemirror_mode": {
    "name": "ipython",
    "version": 3
   },
   "file_extension": ".py",
   "mimetype": "text/x-python",
   "name": "python",
   "nbconvert_exporter": "python",
   "pygments_lexer": "ipython3",
   "version": "3.9.13"
  }
 },
 "nbformat": 4,
 "nbformat_minor": 5
}

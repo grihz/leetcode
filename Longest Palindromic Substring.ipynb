{
 "cells": [
  {
   "cell_type": "markdown",
   "id": "5f348f4b",
   "metadata": {},
   "source": [
    "Given a string `s`, return the *longest palindromic substring* in `s`.\n",
    "\n",
    " \n",
    "**Example 1:**\n",
    ">Input: s = \"babad\"  \n",
    ">Output: \"bab\"  \n",
    ">Explanation: \"aba\" is also a valid answer.  \n",
    "\n",
    "\n",
    "**Example 2:**\n",
    ">Input: s = \"cbbd\"  \n",
    ">Output: \"bb\"   \n",
    "\n",
    "**Constraints:**\n",
    "- 1 <= s.length <= 1000\n",
    "- s consist of only digits and English letters."
   ]
  },
  {
   "cell_type": "code",
   "execution_count": 61,
   "id": "4294c9d2",
   "metadata": {},
   "outputs": [],
   "source": [
    "class Solution:\n",
    "    \n",
    "    @staticmethod\n",
    "    def getMaxPalindron(s: str, index: int) -> str:\n",
    "        maxSteps = min(index, len(s)-index);\n",
    "        isPolType1 = True;\n",
    "        polType1 = 0;\n",
    "        isPolType2 = True;\n",
    "        polType2 = 0;\n",
    "        for st in range(1, maxSteps+1):\n",
    "            if isPolType1:\n",
    "                if s[index-st] == s[index+st-1]:\n",
    "                    polType1 = st;\n",
    "                else:\n",
    "                    isPolType1 = False;\n",
    "            if isPolType2:\n",
    "                if (index+st < len(s)) and (s[index-st] == s[index+st]):\n",
    "                    polType2 = st;\n",
    "                else:\n",
    "                    isPolType2 = False;\n",
    "            if not(isPolType1) and not(isPolType2):\n",
    "                break;\n",
    "        #print('index i = ', index, ' t1= ', polType1, ' t2 = ', polType2)        \n",
    "        if (polType1 > polType2):\n",
    "            return s[index-polType1:index+polType1]\n",
    "        elif (polType2 == 0):\n",
    "            return s[index];\n",
    "        else:    \n",
    "            return s[index-polType2:index+polType2+1]\n",
    "            \n",
    "    \n",
    "    def longestPalindrome(self, s: str) -> str:\n",
    "        polindrom = s[0];\n",
    "        if len(s) <= 1:\n",
    "            return s;\n",
    "        for i in range(1, len(s)):\n",
    "            p = self.__class__.getMaxPalindron(s, i);\n",
    "            if (len(p) > len(polindrom)):\n",
    "                polindrom = p;\n",
    "        return polindrom;\n"
   ]
  },
  {
   "cell_type": "code",
   "execution_count": 62,
   "id": "cda485d7",
   "metadata": {},
   "outputs": [
    {
     "name": "stdout",
     "output_type": "stream",
     "text": [
      "bb\n",
      "bb\n",
      "bab\n",
      "absklksba\n"
     ]
    }
   ],
   "source": [
    "cls = Solution();\n",
    "print(cls.longestPalindrome('bb'));\n",
    "print(cls.longestPalindrome('cbbd'));\n",
    "print(cls.longestPalindrome('babad'));\n",
    "print(cls.longestPalindrome('ASabsklksbaBGDF'));"
   ]
  },
  {
   "cell_type": "code",
   "execution_count": null,
   "id": "a6b75194",
   "metadata": {},
   "outputs": [],
   "source": []
  },
  {
   "cell_type": "code",
   "execution_count": null,
   "id": "b1faa085",
   "metadata": {},
   "outputs": [],
   "source": []
  }
 ],
 "metadata": {
  "kernelspec": {
   "display_name": "Python 3 (ipykernel)",
   "language": "python",
   "name": "python3"
  },
  "language_info": {
   "codemirror_mode": {
    "name": "ipython",
    "version": 3
   },
   "file_extension": ".py",
   "mimetype": "text/x-python",
   "name": "python",
   "nbconvert_exporter": "python",
   "pygments_lexer": "ipython3",
   "version": "3.9.13"
  }
 },
 "nbformat": 4,
 "nbformat_minor": 5
}

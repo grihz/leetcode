{
 "cells": [
  {
   "cell_type": "markdown",
   "id": "aabef86f",
   "metadata": {},
   "source": [
    "Given an `m x n` matrix `board` where each cell is a battleship `'X'` or empty `'.'`, return the number of the battleships on `board`.\n",
    "\n",
    "**Battleships** can only be placed horizontally or vertically on `board`. In other words, they can only be made of the shape `1 x k` (`1` row, `k` columns) or `k x 1` (`k` rows, `1` column), where `k` can be of any size. At least one horizontal or vertical cell separates between two battleships (i.e., there are no adjacent battleships).\n",
    "\n",
    "**Example 1:**\n",
    ">Input: board = [[\"X\",\".\",\".\",\"X\"],[\".\",\".\",\".\",\"X\"],[\".\",\".\",\".\",\"X\"]]\n",
    ">Output: 2\n",
    ">Example 2:\n",
    "\n",
    "**Example 2:**\n",
    ">Input: board = [[\".\"]]\n",
    "?Output: 0\n",
    " \n",
    "\n",
    "**Constraints:**\n",
    "- m == board.length\n",
    "- n == board[i].length\n",
    "- 1 <= m, n <= 200\n",
    "- board[i][j] is either '.' or 'X'.\n",
    " \n",
    "\n",
    "**Follow up**: Could you do it in one-pass, using only `O(1)` extra memory and without modifying the values `board`?"
   ]
  },
  {
   "cell_type": "code",
   "execution_count": 53,
   "id": "caac9a04",
   "metadata": {},
   "outputs": [],
   "source": [
    "from typing import List;\n",
    "\n",
    "class Solution:\n",
    "    def countBattleships(self, board: List[List[str]]) -> int:\n",
    "        count = 0;\n",
    "        i = 0;\n",
    "        verticalShips = set();\n",
    "        while i < len(board):\n",
    "            j = 0;\n",
    "            horizontalShip = False;\n",
    "            while j < len(board[i]):\n",
    "                if (board[i][j] == 'X'):\n",
    "                    if (not(horizontalShip)):   \n",
    "                        if (j < (len(board[i])-1) and board[i][j+1] == 'X'):\n",
    "                            count += 1;\n",
    "                            horizontalShip = True;\n",
    "                        else:\n",
    "                            verticalShips.add(j);\n",
    "                else:\n",
    "                    if (j in verticalShips):\n",
    "                        verticalShips.remove(j);\n",
    "                        count += 1;\n",
    "                    horizontalShip = False;    \n",
    "                j += 1;\n",
    "            print(i, verticalShips);    \n",
    "            i += 1;\n",
    "        count += len(verticalShips);    \n",
    "        return count; "
   ]
  },
  {
   "cell_type": "code",
   "execution_count": 54,
   "id": "1f8b21c8",
   "metadata": {},
   "outputs": [
    {
     "name": "stdout",
     "output_type": "stream",
     "text": [
      "0 {0, 3}\n",
      "1 {3}\n",
      "2 {3}\n",
      "3 set()\n",
      "3\n"
     ]
    }
   ],
   "source": [
    "print(Solution().countBattleships([[\"X\",\".\",\".\",\"X\"],[\".\",\".\",\".\",\"X\"],[\".\",\".\",\".\",\"X\"],[\"X\",\"X\",\".\",\".\"]]));"
   ]
  },
  {
   "cell_type": "code",
   "execution_count": 55,
   "id": "7ead80e0",
   "metadata": {},
   "outputs": [
    {
     "name": "stdout",
     "output_type": "stream",
     "text": [
      "0 {1, 4}\n",
      "1 {1, 4}\n",
      "2 {4}\n",
      "3 {0}\n",
      "4 {0, 4}\n",
      "5\n"
     ]
    }
   ],
   "source": [
    "print(Solution().countBattleships([[\".\",\"X\",\".\",\".\",\"X\"],[\".\",\"X\",\".\",\".\",\"X\"],[\".\",\".\",\".\",\".\",\"X\"],[\"X\",\".\",\"X\",\"X\",\".\"],[\"X\",\".\",\".\",\".\",\"X\"]]));"
   ]
  },
  {
   "cell_type": "code",
   "execution_count": null,
   "id": "23f3e024",
   "metadata": {},
   "outputs": [],
   "source": []
  },
  {
   "cell_type": "code",
   "execution_count": null,
   "id": "c3acff14",
   "metadata": {},
   "outputs": [],
   "source": []
  }
 ],
 "metadata": {
  "kernelspec": {
   "display_name": "Python 3 (ipykernel)",
   "language": "python",
   "name": "python3"
  },
  "language_info": {
   "codemirror_mode": {
    "name": "ipython",
    "version": 3
   },
   "file_extension": ".py",
   "mimetype": "text/x-python",
   "name": "python",
   "nbconvert_exporter": "python",
   "pygments_lexer": "ipython3",
   "version": "3.9.13"
  }
 },
 "nbformat": 4,
 "nbformat_minor": 5
}

{
 "cells": [
  {
   "cell_type": "markdown",
   "id": "1822cd74",
   "metadata": {},
   "source": [
    "Given an array `nums` of distinct integers, return all the possible permutations. You can return the answer in **any order**.\n",
    "\n",
    " \n",
    "\n",
    "**Example 1:**\n",
    ">Input: nums = [1,2,3]\n",
    ">Output: [[1,2,3],[1,3,2],[2,1,3],[2,3,1],[3,1,2],[3,2,1]]\n",
    "\n",
    "**Example 2:**\n",
    ">Input: nums = [0,1]\n",
    ">Output: [[0,1],[1,0]]\n",
    "\n",
    "**Example 3:**\n",
    ">Input: nums = [1]\n",
    ">Output: [[1]]\n",
    " \n",
    "\n",
    "**Constraints:**\n",
    "- 1 <= nums.length <= 6\n",
    "- -10 <= nums[i] <= 10\n",
    "- All the integers of nums are unique."
   ]
  },
  {
   "cell_type": "code",
   "execution_count": 61,
   "id": "c7610d24",
   "metadata": {},
   "outputs": [],
   "source": [
    "from typing import List;\n",
    "\n",
    "class Solution:\n",
    "    def permute(self, nums: List[int]) -> List[List[int]]:\n",
    "        result = [];\n",
    "        cursor = [0 for c in range(len(nums))];\n",
    "        buckets = [[v for v in range(b, len(nums))] for b in range(len(nums))];\n",
    "        while cursor[0] < len(nums):\n",
    "            permutation = [nums[buckets[c][cursor[c]]] for c in range(len(nums))];\n",
    "            result.append(permutation); \n",
    "            j = len(nums) - 1;\n",
    "            while (j > 0) and (cursor[j] + 1 >= len(buckets[j])):\n",
    "                cursor[j] += 1;\n",
    "                j -=1;\n",
    "            else:\n",
    "                cursor[j] += 1;\n",
    "            if (cursor[0] == len(nums)):\n",
    "                break;\n",
    "            for i in range(j+1, len(nums)):\n",
    "                buckets[i] = [b for b in buckets[i-1] if b != buckets[i-1][cursor[i-1]]];\n",
    "                cursor[i] = 0;\n",
    "        return result;"
   ]
  },
  {
   "cell_type": "code",
   "execution_count": 62,
   "id": "fc5b1506",
   "metadata": {},
   "outputs": [
    {
     "name": "stdout",
     "output_type": "stream",
     "text": [
      "[[0, 2, 6, 7], [0, 2, 7, 6], [0, 6, 2, 7], [0, 6, 7, 2], [0, 7, 2, 6], [0, 7, 6, 2], [2, 0, 6, 7], [2, 0, 7, 6], [2, 6, 0, 7], [2, 6, 7, 0], [2, 7, 0, 6], [2, 7, 6, 0], [6, 0, 2, 7], [6, 0, 7, 2], [6, 2, 0, 7], [6, 2, 7, 0], [6, 7, 0, 2], [6, 7, 2, 0], [7, 0, 2, 6], [7, 0, 6, 2], [7, 2, 0, 6], [7, 2, 6, 0], [7, 6, 0, 2], [7, 6, 2, 0]]\n"
     ]
    }
   ],
   "source": [
    "print(Solution().permute([0, 2, 6, 7]));"
   ]
  },
  {
   "cell_type": "code",
   "execution_count": null,
   "id": "c6b8fe61",
   "metadata": {},
   "outputs": [],
   "source": []
  },
  {
   "cell_type": "code",
   "execution_count": null,
   "id": "6389fedc",
   "metadata": {},
   "outputs": [],
   "source": []
  }
 ],
 "metadata": {
  "kernelspec": {
   "display_name": "Python 3 (ipykernel)",
   "language": "python",
   "name": "python3"
  },
  "language_info": {
   "codemirror_mode": {
    "name": "ipython",
    "version": 3
   },
   "file_extension": ".py",
   "mimetype": "text/x-python",
   "name": "python",
   "nbconvert_exporter": "python",
   "pygments_lexer": "ipython3",
   "version": "3.9.13"
  }
 },
 "nbformat": 4,
 "nbformat_minor": 5
}

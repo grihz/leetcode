{
 "cells": [
  {
   "cell_type": "markdown",
   "id": "92764d77",
   "metadata": {},
   "source": [
    "A **sentence** is a string of single-space separated words where each word can contain digits, lowercase letters, and the dollar sign '\\\\$'. A word represents a price if it is a sequence of digits preceded by a dollar sign.\n",
    "\n",
    "- For example, `\"$100\"`, `\"$23\"`, and `\"$6\"` represent prices while `\"100\"`, `\"$\"`, and `\"$1e5\"` do not.\n",
    "You are given a string sentence representing a `sentence` and an integer `discount`. For each word representing a price, apply a discount of `discount%` on the price and update the word in the sentence. All updated prices should be represented with exactly two decimal places.\n",
    "\n",
    "*Return a string representing the modified sentence.*\n",
    "\n",
    "Note that all prices will contain *at most* 10 digits.\n",
    " \n",
    "\n",
    "**Example 1:**\n",
    "> **Input:** sentence = \"there are \\\\$1 \\\\$2 and 5\\\\$ candies in the shop\", discount = 50  \n",
    "> **Output:** \"there are \\\\$0.50 \\\\$1.00 and 5\\\\$ candies in the shop\"  \n",
    "> **Explanation:**   \n",
    "> The words which represent prices are \"\\\\$1\" and \"\\\\$2\".   \n",
    "> \\- A 50% discount on \"\\\\$1\" yields \"\\\\$0.50\", so \"\\\\$1\" is replaced by \"\\\\$0.50\".  \n",
    "> \\- A 50% discount on \"\\\\$2\" yields \"\\\\$1\". Since we need to have exactly 2 decimal places after a price, we replace \"\\\\$2\" with \"\\\\$1.00\".  \n",
    "\n",
    "**Example 2:**\n",
    "> **Input:** sentence = \"1 2 \\\\$3 4 \\\\$5 \\\\$6 7 8\\\\$ \\\\$9 \\\\$10\\\\$\", discount = 100  \n",
    "> **Output:** \"1 2 \\\\$0.00 4 \\\\$0.00 \\\\$0.00 7 8\\\\$ \\\\$0.00 \\\\$10\\\\$\"  \n",
    "> **Explanation:**   \n",
    "> Applying a 100% discount on any price will result in 0.\n",
    "> The words representing prices are \"\\\\$3\", \"\\\\$5\", \"\\\\$6\", and \"\\\\$9\".\n",
    "> Each of them is replaced by \"\\\\$0.00\".\n",
    " \n",
    "\n",
    "**Constraints:**\n",
    "- `1 <= sentence.length <= 105`\n",
    "- `sentence` consists of lowercase English letters, digits, `' '`, and `'$'`.\n",
    "- `sentence` does not have leading or trailing spaces.\n",
    "- All words in sentence are separated by a single space.\n",
    "- All prices will be **positive** numbers without leading zeros.\n",
    "- All prices will have **at most** 10 digits.\n",
    "- `0 <= discount <= 100`"
   ]
  },
  {
   "cell_type": "code",
   "execution_count": 80,
   "id": "efbd2fca",
   "metadata": {},
   "outputs": [],
   "source": [
    "class Solution:\n",
    "    \n",
    "    @staticmethod\n",
    "    def applyDiscount(number: str, discount: int) -> str:\n",
    "        if (number == ''): \n",
    "            return number;\n",
    "        num = float(number);\n",
    "        return \"{:.2f}\".format(num*(100-discount)/100)\n",
    "        \n",
    "    \n",
    "    def discountPrices(self, sentence: str, discount: int) -> str:\n",
    "        digits = {'0', '1', '2', '3', '4', '5', '6', '7', '8', '9'}\n",
    "        output = '';\n",
    "        number = '';\n",
    "        isNumber = False;\n",
    "        for i, v in enumerate(sentence):\n",
    "            if (isNumber):\n",
    "                if (v in digits):\n",
    "                    number += v;\n",
    "                    if (i == (len(sentence)-1)):\n",
    "                        output += self.__class__.applyDiscount(number, discount);\n",
    "                        number = '';\n",
    "                else:\n",
    "                    isNumber = False;\n",
    "                    if (v == ' '):\n",
    "                        output += self.__class__.applyDiscount(number, discount);\n",
    "                    else:\n",
    "                        output += number;\n",
    "                    number = '';    \n",
    "                    output += v;\n",
    "                        \n",
    "            else:\n",
    "                if (v == '$' and (i == 0 or sentence[i-1] == ' ')):\n",
    "                    isNumber = True;\n",
    "                output += v;\n",
    "        return output;\n",
    "    \n",
    "    \n",
    "class Solution2:\n",
    "    \n",
    "    @staticmethod\n",
    "    def applyDiscount(number: str, discount: int) -> str:\n",
    "        if (number == ''): \n",
    "            return number;\n",
    "        num = float(number);\n",
    "        return \"{:.2f}\".format(num*(100-discount)/100)\n",
    "        \n",
    "    \n",
    "    def discountPrices(self, sentence: str, discount: int) -> str:\n",
    "        digits = {'0', '1', '2', '3', '4', '5', '6', '7', '8', '9'}\n",
    "        output = '';\n",
    "        number = '';\n",
    "        isNumber = False;\n",
    "        i = 0;\n",
    "        while i < len(sentence):\n",
    "            v = sentence[i];\n",
    "            output += v;\n",
    "            if (v == '$' and (i == 0 or sentence[i-1] == ' ')):\n",
    "                i = i+1;\n",
    "                while (i < len(sentence)) and (sentence[i] in digits):\n",
    "                    number += sentence[i];\n",
    "                    i += 1;\n",
    "                if (i == len(sentence)):\n",
    "                    output += self.__class__.applyDiscount(number, discount); \n",
    "                    break;\n",
    "                if (sentence[i] == ' '):\n",
    "                    output += self.__class__.applyDiscount(number, discount) + sentence[i];\n",
    "                else:    \n",
    "                    output += number + sentence[i];\n",
    "                number = '';\n",
    "            i +=1;\n",
    "        return output; \n",
    "    \n",
    "    \n",
    "class Solution3:\n",
    "    \n",
    "    def discountPrices(self, sentence: str, discount: int) -> str:        \n",
    "        def applyDiscount(number: str, discount: int) -> str:\n",
    "            if (number == ''): \n",
    "                return number;\n",
    "            num = float(number);\n",
    "            return \"{:.2f}\".format(num*(100-discount)/100)\n",
    "        \n",
    "        output = '';\n",
    "        number = '';\n",
    "        isNumberStarted = False;\n",
    "        for i, v in enumerate(sentence):\n",
    "            if (isNumberStarted and not(v == ' ')):\n",
    "                number += v;\n",
    "                if (i == (len(sentence)-1)):\n",
    "                    output += applyDiscount(number, discount) if number.isdigit() else number;\n",
    "                    break;\n",
    "                continue; \n",
    "            if (isNumberStarted and v == ' '):\n",
    "                output += (applyDiscount(number, discount) if number.isdigit() else number) + v; \n",
    "                isNumberStarted = False;\n",
    "                number = ''; \n",
    "                continue;\n",
    "            isNumberStarted = False;\n",
    "            if (v == '$' and (i == 0 or sentence[i-1] == ' ')):\n",
    "                isNumberStarted = True;\n",
    "            output += number + v;\n",
    "            number = '';\n",
    "        return output;   "
   ]
  },
  {
   "cell_type": "code",
   "execution_count": 81,
   "id": "1a6d7839",
   "metadata": {},
   "outputs": [],
   "source": [
    "str = \"there are $1 $2 and 5$ candies in the shop $6\""
   ]
  },
  {
   "cell_type": "code",
   "execution_count": 82,
   "id": "f72e5e69",
   "metadata": {},
   "outputs": [
    {
     "name": "stdout",
     "output_type": "stream",
     "text": [
      "there are $0.50 $1.00 and 5$ candies in the shop $3.00\n",
      "there are $0.50 $1.00 and 5$ candies in the shop $3.00\n",
      "there are $0.50 $1.00 and 5$ candies in the shop $3.00\n"
     ]
    }
   ],
   "source": [
    "cls = Solution();\n",
    "print(cls.discountPrices(str, 50))\n",
    "print(Solution2().discountPrices(str, 50))\n",
    "print(Solution3().discountPrices(str, 50))"
   ]
  },
  {
   "cell_type": "code",
   "execution_count": 83,
   "id": "7c666745",
   "metadata": {},
   "outputs": [
    {
     "name": "stdout",
     "output_type": "stream",
     "text": [
      "1 2 $0.00 4 $0.00 $0.00 7 8$ $0.00 $10$\n",
      "1 2 $0.00 4 $0.00 $0.00 7 8$ $0.00 $10$\n",
      "1 2 $0.00 4 $0.00 $0.00 7 8$ $0.00 $10$\n"
     ]
    }
   ],
   "source": [
    "str = \"1 2 $3 4 $5 $6 7 8$ $9 $10$\";\n",
    "cls = Solution();\n",
    "print(cls.discountPrices(str, 100))\n",
    "print(Solution2().discountPrices(str, 100))\n",
    "print(Solution3().discountPrices(str, 100))"
   ]
  },
  {
   "cell_type": "code",
   "execution_count": 84,
   "id": "7789a421",
   "metadata": {},
   "outputs": [
    {
     "name": "stdout",
     "output_type": "stream",
     "text": [
      "7mozebb9smpwz$$yqr4mox3uae1a210prubb5zp1dykv$ffezb4jpfpcv5hldxnuob66bmu17g$aceym5vszi1$re1v4ttspua6b8yxtbfwnmyk8tudx1qj1ahxbseidrauclql3$ph$pj g5q61b01ho2k9c8fzdasxqvufyms66stvq2 $2558566593.89 ph3fw6mw $6422.70 t1 $6320996.19 $yrdnj9pek7yr1ccujc756i44qk5mr6h64zizbazgyx0k0$0 vmhb4r31ee2futqh76co5eff\n",
      "7mozebb9smpwz$$yqr4mox3uae1a210prubb5zp1dykv$ffezb4jpfpcv5hldxnuob66bmu17g$aceym5vszi1$re1v4ttspua6b8yxtbfwnmyk8tudx1qj1ahxbseidrauclql3$ph$pj g5q61b01ho2k9c8fzdasxqvufyms66stvq2 $2558566593.89 ph3fw6mw $6422.70 t1 $6320996.19 $yrdnj9pek7yr1ccujc756i44qk5mr6h64zizbazgyx0k0$0 vmhb4r31ee2futqh76co5eff\n",
      "7mozebb9smpwz$$yqr4mox3uae1a210prubb5zp1dykv$ffezb4jpfpcv5hldxnuob66bmu17g$aceym5vszi1$re1v4ttspua6b8yxtbfwnmyk8tudx1qj1ahxbseidrauclql3$ph$pj g5q61b01ho2k9c8fzdasxqvufyms66stvq2 $2558566593.89 ph3fw6mw $6422.70 t1 $6320996.19 $yrdnj9pek7yr1ccujc756i44qk5mr6h64zizbazgyx0k0$0 vmhb4r31ee2futqh76co5eff\n"
     ]
    }
   ],
   "source": [
    "str = \"7mozebb9smpwz$$yqr4mox3uae1a210prubb5zp1dykv$ffezb4jpfpcv5hldxnuob66bmu17g$aceym5vszi1$re1v4ttspua6b8yxtbfwnmyk8tudx1qj1ahxbseidrauclql3$ph$pj g5q61b01ho2k9c8fzdasxqvufyms66stvq2 $3238691891 ph3fw6mw $8130 t1 $8001261 $yrdnj9pek7yr1ccujc756i44qk5mr6h64zizbazgyx0k0$0 vmhb4r31ee2futqh76co5eff\";\n",
    "print(Solution().discountPrices(str, 21))\n",
    "print(Solution2().discountPrices(str, 21))\n",
    "print(Solution3().discountPrices(str, 21))"
   ]
  },
  {
   "cell_type": "code",
   "execution_count": null,
   "id": "035f5c31",
   "metadata": {},
   "outputs": [],
   "source": []
  }
 ],
 "metadata": {
  "kernelspec": {
   "display_name": "Python 3 (ipykernel)",
   "language": "python",
   "name": "python3"
  },
  "language_info": {
   "codemirror_mode": {
    "name": "ipython",
    "version": 3
   },
   "file_extension": ".py",
   "mimetype": "text/x-python",
   "name": "python",
   "nbconvert_exporter": "python",
   "pygments_lexer": "ipython3",
   "version": "3.9.13"
  }
 },
 "nbformat": 4,
 "nbformat_minor": 5
}
